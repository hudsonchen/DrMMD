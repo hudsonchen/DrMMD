{
 "cells": [
  {
   "cell_type": "code",
   "execution_count": 1,
   "metadata": {},
   "outputs": [
    {
     "name": "stderr",
     "output_type": "stream",
     "text": [
      "/tmp/ipykernel_396368/2625702814.py:32: MatplotlibDeprecationWarning: The get_cmap function was deprecated in Matplotlib 3.7 and will be removed two minor releases later. Use ``matplotlib.colormaps[name]`` or ``matplotlib.colormaps.get_cmap(obj)`` instead.\n",
      "  cmap = cm.get_cmap('tab10')\n"
     ]
    },
    {
     "data": {
      "text/plain": [
       "<Figure size 640x480 with 0 Axes>"
      ]
     },
     "metadata": {},
     "output_type": "display_data"
    }
   ],
   "source": [
    "import os\n",
    "os.environ['XLA_PYTHON_CLIENT_MEM_FRACTION'] = '.30'\n",
    "\n",
    "import jax.numpy as jnp\n",
    "import jax\n",
    "import pickle\n",
    "\n",
    "jax.config.update(\"jax_enable_x64\", True)\n",
    "# jax.config.update(\"jax_platform_name\", \"cpu\")\n",
    "\n",
    "os.chdir('/home/zongchen/chard/')\n",
    "\n",
    "import matplotlib.pyplot as plt\n",
    "from matplotlib import cm\n",
    "import math\n",
    "\n",
    "plt.rcParams['axes.grid'] = True\n",
    "plt.rcParams['font.family'] = 'DeJavu Serif'\n",
    "plt.rcParams['font.serif'] = ['Times New Roman']\n",
    "plt.rcParams['axes.labelsize'] = 18\n",
    "plt.rc('text', usetex=True)\n",
    "plt.rc('text.latex', preamble=r'\\usepackage{amsmath, amsfonts}')\n",
    "plt.tight_layout()\n",
    "\n",
    "plt.rc('font', size=18)\n",
    "plt.rc('lines', linewidth=2)\n",
    "plt.rc('legend', fontsize=16, frameon=False)\n",
    "plt.rc('xtick', labelsize=12, direction='in')\n",
    "plt.rc('ytick', labelsize=12, direction='in')\n",
    "plt.rc('figure', figsize=(6, 4))\n",
    "\n",
    "cmap = cm.get_cmap('tab10')\n",
    "color_dict = {'chard': 'red', 'mmd': 'steelblue', 'kale': 'forestgreen', 'chi2': 'purple'}\n",
    "alpha = 0.1\n",
    "\n",
    "from kwgflows.rkhs.kernels import *\n",
    "import ot\n",
    "from kwgflows.divergences.mmd import *\n"
   ]
  },
  {
   "cell_type": "code",
   "execution_count": null,
   "id": "f2cd76f7",
   "metadata": {},
   "outputs": [],
   "source": []
  },
  {
   "cell_type": "code",
   "execution_count": 2,
   "metadata": {},
   "outputs": [],
   "source": [
    "def check_items_in_filename(filename, items):\n",
    "    results = {}\n",
    "    for item in items:\n",
    "        results[item] = item in filename\n",
    "    return results\n",
    "\n",
    "trajectorys = {'mmd': None,\n",
    "               'chard': None,\n",
    "               'kale': None,\n",
    "               'chi2': None}\n",
    "\n",
    "configs = {'mmd': None,\n",
    "              'chard': None,\n",
    "              'kale': None,\n",
    "              'chi2': None}\n",
    "\n",
    "labels = {'mmd': r'$\\text{MMD}^2(\\cdot | \\pi)$',\n",
    "          'chard': r'$\\text{DrMMD}(\\cdot | \\pi)$',\n",
    "          'wass': r'$W_2(\\cdot | \\pi)$',}"
   ]
  },
  {
   "cell_type": "code",
   "execution_count": 3,
   "metadata": {},
   "outputs": [],
   "source": [
    "def generate_three_ring_and_gaussian(Nx, Ny):\n",
    "    rng_key = jax.random.PRNGKey(42)\n",
    "    r, _delta = 0.3, 0.5\n",
    "    \n",
    "    X = jnp.c_[r * jnp.cos(jnp.linspace(0, 2 * jnp.pi, Nx + 1)), r * jnp.sin(jnp.linspace(0, 2 * jnp.pi, Nx + 1))][:-1]  # noqa\n",
    "    for i in [1, 2]:\n",
    "        X = jnp.r_[X, X[:Nx, :]-i*jnp.array([0, (2 + _delta) * r])]\n",
    "\n",
    "    rng_key, _ = jax.random.split(rng_key)\n",
    "    Y = jax.random.normal(rng_key, (Ny, 2)) / 100 - jnp.array([0, r])\n",
    "    return X, Y\n"
   ]
  },
  {
   "cell_type": "code",
   "execution_count": 4,
   "metadata": {},
   "outputs": [],
   "source": [
    "mmd_dir = '/home/zongchen/chard/results_rebuttal/ThreeRing_dataset/Gaussian_kernel/mmd_flow/'\n",
    "mmd_hyper = ['step_size_0.1_',\n",
    "               'bandwidth_0.15_',\n",
    "               'step_num_1000_',\n",
    "               'source_particle_num_300_',\n",
    "               'opt_sgd_']\n",
    "mmd_trajectory = None\n",
    "for file in os.listdir(mmd_dir):\n",
    "    if all(hyper in file for hyper in mmd_hyper):\n",
    "        mmd_trajectory = jnp.load(mmd_dir + file + '/Ys.npy')\n",
    "        mmd_config = pickle.load(open(mmd_dir + file + '/configs', 'rb'))\n",
    "        \n",
    "if mmd_trajectory is None:\n",
    "    raise ValueError('No mmd trajectory found')\n"
   ]
  },
  {
   "cell_type": "code",
   "execution_count": 5,
   "metadata": {},
   "outputs": [],
   "source": [
    "chard_dir = '/home/zongchen/chard/results_rebuttal/ThreeRing_dataset/Gaussian_kernel/chard_flow/'\n",
    "chard_hyper = ['lmbda_0.001_', \n",
    "               'step_size_0.0001_',\n",
    "               'bandwidth_0.15_',\n",
    "               'step_num_100000_',\n",
    "               'source_particle_num_300_',\n",
    "               'inject_noise_scale_0.0_',\n",
    "               'nystrom_0',\n",
    "               'opt_sgd_']\n",
    "chard_trajectory = None\n",
    "for file in os.listdir(chard_dir):\n",
    "    if all(hyper in file for hyper in chard_hyper):\n",
    "        chard_trajectory = jnp.load(chard_dir + file + '/Ys.npy')\n",
    "        chard_config = pickle.load(open(chard_dir + file + '/configs', 'rb'))\n",
    "        \n",
    "if chard_trajectory is None:\n",
    "    raise ValueError('No chard trajectory found')\n",
    "\n",
    "chard_trajectory = chard_trajectory[::10]"
   ]
  },
  {
   "cell_type": "code",
   "execution_count": 6,
   "metadata": {},
   "outputs": [
    {
     "name": "stdout",
     "output_type": "stream",
     "text": [
      "(100, 300, 2)\n"
     ]
    }
   ],
   "source": [
    "kale_dir = '/home/zongchen/chard/kale-flow/Ys.npy'\n",
    "kale_trajectory = jnp.load(kale_dir)[::10]\n",
    "\n",
    "print(kale_trajectory.shape)"
   ]
  },
  {
   "cell_type": "code",
   "execution_count": 13,
   "id": "f8fbb2cd",
   "metadata": {},
   "outputs": [
    {
     "name": "stdout",
     "output_type": "stream",
     "text": [
      "(100, 300, 2)\n"
     ]
    }
   ],
   "source": [
    "chi2_dir = '/home/zongchen/chard/results_rebuttal/Ys.npy'\n",
    "chi2_trajectory = jnp.load(chi2_dir)[::10]\n",
    "print(chi2_trajectory.shape)"
   ]
  },
  {
   "cell_type": "code",
   "execution_count": 18,
   "id": "188b8140",
   "metadata": {},
   "outputs": [
    {
     "data": {
      "image/png": "[encoded data removed]",
      "text/plain": [
       "<Figure size 600x400 with 1 Axes>"
      ]
     },
     "metadata": {},
     "output_type": "display_data"
    }
   ],
   "source": [
    "plt.figure()\n",
    "plt.scatter(chi2_trajectory[-1, :, 0], chi2_trajectory[-1, :, 1], s=1, c='purple')\n",
    "plt.scatter(kale_trajectory[-1, :, 0], kale_trajectory[-1, :, 1], s=1, c='forestgreen')\n",
    "plt.scatter(mmd_trajectory[-1, :, 0], mmd_trajectory[-1, :, 1], s=1, c='red')\n",
    "plt.show()"
   ]
  },
  {
   "cell_type": "code",
   "execution_count": 8,
   "id": "f5558f9f",
   "metadata": {},
   "outputs": [],
   "source": [
    "import argparse\n",
    "\n",
    "# Define your dictionary\n",
    "my_dict = chard_config\n",
    "\n",
    "# Create the ArgumentParser object\n",
    "parser = argparse.ArgumentParser(description='Convert dictionary to parser arguments')\n",
    "\n",
    "# Add arguments to the parser based on the dictionary\n",
    "for key, value in my_dict.items():\n",
    "    # Determine the type of the value for proper handling\n",
    "    if isinstance(value, int):\n",
    "        parser.add_argument(f'--{key}', type=int, default=value, help=f'{key} (default: {value})')\n",
    "    else:\n",
    "        parser.add_argument(f'--{key}', type=str, default=value, help=f'{key} (default: \"{value}\")')\n",
    "\n",
    "# Parse command line arguments (this line is for demonstration and typically uses sys.argv)\n",
    "args = parser.parse_args([])  # Empty list simulates no command-line arguments\n",
    "\n",
    "\n"
   ]
  },
  {
   "cell_type": "code",
   "execution_count": 9,
   "metadata": {},
   "outputs": [],
   "source": [
    "\n",
    "def compute_wasserstein_distance_numpy(X, Y):\n",
    "    a, b = jnp.ones((X.shape[0], )) / X.shape[0], jnp.ones((Y.shape[0], )) / Y.shape[0]\n",
    "    M = ot.dist(X, Y, 'euclidean')\n",
    "    W = ot.emd(a, b, M)\n",
    "    Wd = (W * M).sum()\n",
    "    return Wd\n",
    "\n",
    "def compute_wasserstein_distance_trajectory(flow_1, flow_2, eval_freq):\n",
    "    assert flow_1.shape[0] == flow_2.shape[0]\n",
    "    T = flow_1.shape[0]\n",
    "    wasserstein_distance = []\n",
    "    for i in range(0, T, eval_freq):\n",
    "        wasserstein_distance.append(compute_wasserstein_distance_numpy(flow_1[i, :], flow_2[i, :]))\n",
    "    wasserstein_distance = jnp.array(wasserstein_distance)\n",
    "    return wasserstein_distance\n",
    "\n",
    "def compute_all_distance_trajectory(config, trajectory, target, kernel):\n",
    "    mmd_divergence = mmd_fixed_target(args, kernel, None)\n",
    "    mmd_divergence.pre_compute(target)\n",
    "    mmd_distance = jax.vmap(mmd_divergence)(trajectory)\n",
    "\n",
    "    chard_divergence = chard_fixed_target(args, kernel, None)\n",
    "    chard_divergence.pre_compute(target)\n",
    "    chard_distance = jax.vmap(chard_divergence)(trajectory)\n",
    "\n",
    "    T = trajectory.shape[0]\n",
    "    wass_distance = compute_wasserstein_distance_trajectory(trajectory, jnp.repeat(target[None, :], T, axis=0), eval_freq=1)\n",
    "    return mmd_distance, chard_distance, wass_distance"
   ]
  },
  {
   "cell_type": "code",
   "execution_count": 10,
   "metadata": {},
   "outputs": [],
   "source": [
    "\n",
    "trajectorys['mmd'] = mmd_trajectory\n",
    "configs['mmd'] = mmd_config\n",
    "trajectorys['chard'] = chard_trajectory\n",
    "configs['chard'] = chard_config\n",
    "trajectorys['kale'] = kale_trajectory\n",
    "configs['kale'] = chard_config\n",
    "trajectorys['chi2'] = chi2_trajectory\n",
    "\n",
    "wasserstein_distance_all = {'mmd': {},\n",
    "                            'chard': {},\n",
    "                            'wass': {},}\n",
    "\n",
    "for method, trajectory in trajectorys.items():\n",
    "    T = trajectory.shape[0]\n",
    "    particle_num = trajectory.shape[1]\n",
    "\n",
    "    target, _ = generate_three_ring_and_gaussian(int(particle_num/3), particle_num)\n",
    "    kernel = gaussian_kernel(0.15)\n",
    "    mmd, chard, wass = compute_all_distance_trajectory(configs[method], trajectory, target, kernel)\n",
    "    wasserstein_distance_all['mmd'][method] = mmd\n",
    "    wasserstein_distance_all['chard'][method] = chard\n",
    "    wasserstein_distance_all['wass'][method] = wass\n",
    "    "
   ]
  },
  {
   "cell_type": "code",
   "execution_count": 11,
   "id": "f5a9a820",
   "metadata": {},
   "outputs": [
    {
     "data": {
      "text/plain": [
       "(100,)"
      ]
     },
     "execution_count": 11,
     "metadata": {},
     "output_type": "execute_result"
    }
   ],
   "source": [
    "wasserstein_distance_all['wass']['chi2'].shape"
   ]
  },
  {
   "cell_type": "code",
   "execution_count": 20,
   "metadata": {},
   "outputs": [
    {
     "data": {
      "image/png": "[encoded data removed]",
      "text/plain": [
       "<Figure size 600x350 with 1 Axes>"
      ]
     },
     "metadata": {},
     "output_type": "display_data"
    }
   ],
   "source": [
    "labels_dict = {'mmd': 'MMD', 'chard': 'DrMMD', 'kale': 'KALE', 'chi2': 'LL'}\n",
    "\n",
    "x_ticks = jnp.arange(0, 10* T, 10)\n",
    "\n",
    "fig, axs = plt.subplots(1, 1, figsize=(6, 3.5))\n",
    "# for i, distance in enumerate(wasserstein_distance_all.keys()):\n",
    "#     axs[i].set_xlabel('Iteration')\n",
    "#     axs[i].set_ylabel(labels[distance])\n",
    "#     for method in wasserstein_distance_all[distance].keys():\n",
    "#         axs[i].plot(x_ticks, wasserstein_distance_all[distance][method], color=color_dict[method], label=labels_dict[method])\n",
    "#     if i == 2:\n",
    "#         axs[i].set_ylim([4e-3, 1.0])\n",
    "#     axs[i].set_yscale('log')\n",
    "# axs[2].legend(ncol=2)\n",
    "for method in wasserstein_distance_all['wass'].keys():\n",
    "    axs.plot(x_ticks, wasserstein_distance_all['wass'][method], color=color_dict[method], label=labels_dict[method])\n",
    "axs.set_yscale('log')\n",
    "axs.set_xlabel('Iteration')\n",
    "axs.set_ylabel(r'$W_2(\\cdot | \\pi)$')\n",
    "axs.legend(ncol=2)\n",
    "plt.tight_layout()\n",
    "plt.savefig(f'/home/zongchen/chard/figures/three_ring_mmd_chard_wass_ll.pdf')\n",
    "plt.show()"
   ]
  },
  {
   "cell_type": "code",
   "execution_count": null,
   "id": "c7fa83fe",
   "metadata": {},
   "outputs": [],
   "source": []
  }
 ],
 "metadata": {
  "kernelspec": {
   "display_name": "chard",
   "language": "python",
   "name": "python3"
  },
  "language_info": {
   "codemirror_mode": {
    "name": "ipython",
    "version": 3
   },
   "file_extension": ".py",
   "mimetype": "text/x-python",
   "name": "python",
   "nbconvert_exporter": "python",
   "pygments_lexer": "ipython3",
   "version": "3.9.18"
  }
 },
 "nbformat": 4,
 "nbformat_minor": 5
}
