{
 "cells": [
  {
   "cell_type": "code",
   "execution_count": 2,
   "metadata": {},
   "outputs": [
    {
     "data": {
      "text/plain": [
       "<Figure size 600x450 with 0 Axes>"
      ]
     },
     "metadata": {},
     "output_type": "display_data"
    }
   ],
   "source": [
    "import numpy as np\n",
    "import matplotlib.pyplot as plt\n",
    "import jax.numpy as jnp\n",
    "import jax\n",
    "import math\n",
    "plt.rcParams['axes.grid'] = True\n",
    "plt.rcParams['font.family'] = 'DeJavu Serif'\n",
    "plt.rcParams['font.serif'] = ['Times New Roman']\n",
    "plt.rcParams['axes.labelsize'] = 20\n",
    "plt.rc('text', usetex=True)\n",
    "plt.rc('text.latex', preamble=r'\\usepackage{amsmath, amsfonts}')\n",
    "plt.tight_layout()\n",
    "\n",
    "plt.rc('font', size=20)\n",
    "plt.rc('lines', linewidth=2)\n",
    "plt.rc('legend', fontsize=18, frameon=False)\n",
    "plt.rc('xtick', labelsize=14, direction='in')\n",
    "plt.rc('ytick', labelsize=14, direction='in')\n",
    "plt.rc('figure', figsize=(6, 4))\n"
   ]
  },
  {
   "cell_type": "code",
   "execution_count": 3,
   "metadata": {},
   "outputs": [
    {
     "name": "stdout",
     "output_type": "stream",
     "text": [
      "probabilist 8.031249999999993\n",
      "physicist 22.061523437499993\n"
     ]
    }
   ],
   "source": [
    "from scipy import special\n",
    "i = 10\n",
    "H = special.hermite(i, monic=True)\n",
    "H_prime = special.hermitenorm(i)\n",
    "\n",
    "print('probabilist', H(1.))\n",
    "print('physicist', H_prime(1. / np.sqrt(2.)) / np.sqrt(np.power(2, i)))\n",
    "\n",
    "# Use monic = False for all the hermite"
   ]
  },
  {
   "cell_type": "code",
   "execution_count": 4,
   "metadata": {},
   "outputs": [
    {
     "name": "stdout",
     "output_type": "stream",
     "text": [
      "Gaussian kernel value: [[0.60653066]]\n"
     ]
    },
    {
     "name": "stderr",
     "output_type": "stream",
     "text": [
      "100%|██████████| 20/20 [00:00<00:00, 6356.93it/s]"
     ]
    },
    {
     "name": "stdout",
     "output_type": "stream",
     "text": [
      "Gaussian kernel value with mercer decomposition [[0.60653066]]\n"
     ]
    },
    {
     "name": "stderr",
     "output_type": "stream",
     "text": [
      "\n"
     ]
    }
   ],
   "source": [
    "## verify the kernel\n",
    "\n",
    "from scipy import special\n",
    "from sklearn.gaussian_process.kernels import RBF\n",
    "l = 1.0\n",
    "kernel = 1.0 * RBF(l)\n",
    "x = np.array([[1.]])\n",
    "y = np.array([[2.]])\n",
    "K = kernel(x, y)\n",
    "print('Gaussian kernel value:', K)\n",
    "\n",
    "alpha =  1.0\n",
    "\n",
    "hermite_order = 20\n",
    "sum = 0\n",
    "rho_list = []\n",
    "epsilon = 1 / (np.sqrt(2) * l)\n",
    "beta = (1 + (2 * epsilon / alpha) ** 2) ** 0.25\n",
    "delta = (alpha ** 2) * (beta ** 2 - 1) / 2\n",
    "\n",
    "from tqdm import tqdm\n",
    "for i in tqdm(range(hermite_order)):\n",
    "    H = special.hermite(i, monic=False)\n",
    "    phi_x = np.sqrt(beta / math.factorial(i)) * np.exp(-(delta) * (x ** 2)) * H(alpha * beta * x) / np.sqrt(2 ** i)\n",
    "    phi_y = np.sqrt(beta / math.factorial(i)) * np.exp(-(delta) * (y ** 2)) * H(alpha * beta * y) / np.sqrt(2 ** i)\n",
    "    rho = alpha / np.sqrt(alpha ** 2 + delta + epsilon ** 2) * np.power( epsilon ** 2 / (alpha ** 2 + delta + epsilon ** 2), i)\n",
    "    rho_list.append(rho)\n",
    "    sum += rho * phi_x * phi_y\n",
    "\n",
    "print('Gaussian kernel value with mercer decomposition',sum)\n",
    "\n",
    "lmbda_array = np.array(rho_list)\n"
   ]
  },
  {
   "cell_type": "code",
   "execution_count": 5,
   "metadata": {},
   "outputs": [
    {
     "name": "stdout",
     "output_type": "stream",
     "text": [
      "numerical integration: 61.918970082290784\n",
      "analytical integration: 62.0\n"
     ]
    }
   ],
   "source": [
    "#compute integral of hermite with respect to a Gaussian N(0, )\n",
    "\n",
    "def integrate_hermite_gaussian(n, alpha, p):\n",
    "    # \\int H_n( c x) exp(-p x^2) dx\n",
    "    if n % 2 != 0:\n",
    "        return 0\n",
    "    else:\n",
    "        H = special.hermite(n)\n",
    "        sigma = 1 / np.sqrt(2 * p)\n",
    "    return np.sqrt(2 * np.pi) * sigma * np.power(1 - 2 * (alpha ** 2) * (sigma ** 2), int(n/2)) * H(0)\n",
    "\n",
    "hermite_order_ = 2\n",
    "c = 2.0\n",
    "scale = 2.0\n",
    "grid = np.random.normal(loc=0.0, scale=scale, size=1000000)\n",
    "# numerical integration\n",
    "H = special.hermite(hermite_order_)\n",
    "print('numerical integration:', H(grid * c).mean())\n",
    "# analytical integration\n",
    "print('analytical integration:', integrate_hermite_gaussian(hermite_order_, c, 1. / (2 * scale ** 2) ) / ( np.sqrt(2 * np.pi) * scale))"
   ]
  },
  {
   "cell_type": "code",
   "execution_count": 6,
   "metadata": {},
   "outputs": [
    {
     "name": "stdout",
     "output_type": "stream",
     "text": [
      "empirical witness: 0.2054425037959931\n",
      "anaytic witness: [[0.22809349]]\n"
     ]
    },
    {
     "name": "stderr",
     "output_type": "stream",
     "text": [
      "/tmp/ipykernel_188004/3210351800.py:16: DeprecationWarning: `np.math` is a deprecated alias for the standard library `math` module (Deprecated Numpy 1.25). Replace usages of `np.math` with `math`\n",
      "  coeff = np.sqrt(beta / np.math.factorial(i)) / np.sqrt(2 ** i)\n"
     ]
    }
   ],
   "source": [
    "# witness function for MMD\n",
    "\n",
    "# empirical witness\n",
    "scale_x, scale_y = 1.0, 2.0\n",
    "x_samples = np.random.normal(loc=0.0, scale=scale_x, size=1000).reshape(-1, 1)\n",
    "y_samples = np.random.normal(loc=0.0, scale=scale_y, size=1000).reshape(-1, 1)\n",
    "z = np.array([[0.5]])\n",
    "h = kernel(z, x_samples).mean() - kernel(z, y_samples).mean()\n",
    "print('empirical witness:', h)\n",
    "# analytical witness\n",
    "\n",
    "\n",
    "sum = 0\n",
    "for i in range(hermite_order):\n",
    "    H = special.hermite(i)\n",
    "    coeff = np.sqrt(beta / np.math.factorial(i)) / np.sqrt(2 ** i)\n",
    "    emd_x = coeff * integrate_hermite_gaussian(i, alpha * beta, delta + 1. / (2 * scale_x ** 2)) / ( np.sqrt(2 * np.pi) * scale_x)\n",
    "    emd_y = coeff * integrate_hermite_gaussian(i, alpha * beta, delta + 1. / (2 * scale_y ** 2)) / ( np.sqrt(2 * np.pi) * scale_y)\n",
    "    phi_z = coeff * np.exp(-(delta) * (z ** 2)) * H(alpha * beta * z)\n",
    "    sum += rho_list[i] * (emd_x - emd_y) * phi_z\n",
    "\n",
    "print('anaytic witness:', sum)"
   ]
  },
  {
   "cell_type": "code",
   "execution_count": 7,
   "metadata": {},
   "outputs": [
    {
     "name": "stdout",
     "output_type": "stream",
     "text": [
      "empirical witness: 0.8789955974147338\n",
      "anaytic witness: [[0.65562594]]\n"
     ]
    },
    {
     "name": "stderr",
     "output_type": "stream",
     "text": [
      "/tmp/ipykernel_188004/445368671.py:26: DeprecationWarning: `np.math` is a deprecated alias for the standard library `math` module (Deprecated Numpy 1.25). Replace usages of `np.math` with `math`\n",
      "  coeff = np.sqrt(beta / np.math.factorial(i)) / np.sqrt(2 ** i)\n"
     ]
    }
   ],
   "source": [
    "# witness function for DrMMD\n",
    "lmbda = 0.1\n",
    "\n",
    "# empirical witness\n",
    "scale_x, scale_y = 1.0, 2.0\n",
    "x_samples = np.random.normal(loc=0.0, scale=scale_x, size=1000).reshape(-1, 1)\n",
    "y_samples = np.random.normal(loc=0.0, scale=scale_y, size=1000).reshape(-1, 1)\n",
    "z = np.array([[0.5]])\n",
    "K_zY = kernel(z, y_samples)\n",
    "K_zX = kernel(z, x_samples)\n",
    "K_XX = kernel(x_samples, x_samples)\n",
    "K_XY = kernel(x_samples, y_samples)\n",
    "\n",
    "K_XX_inv = np.linalg.inv(K_XX + x_samples.shape[0] * lmbda * np.eye(K_XX.shape[0]))\n",
    "part1 = - K_zY.mean(axis=1) + K_zX.mean(axis=1)\n",
    "part2 = (K_zX @ K_XX_inv @ K_XY).mean(axis=1)\n",
    "part3 = - (K_zX @ K_XX_inv @ K_XX).mean(axis=1)\n",
    "h = (part1 + part2 + part3).squeeze() / lmbda * 2 * (1 + lmbda)\n",
    "print('empirical witness:', h)\n",
    "\n",
    "\n",
    "# analytical witness\n",
    "sum = 0\n",
    "for i in range(hermite_order):\n",
    "    H = special.hermite(i)\n",
    "    coeff = np.sqrt(beta / np.math.factorial(i)) / np.sqrt(2 ** i)\n",
    "    emd_x = coeff * integrate_hermite_gaussian(i, alpha * beta, delta + 1. / (2 * scale_x ** 2)) / ( np.sqrt(2 * np.pi) * scale_x)\n",
    "    emd_y = coeff * integrate_hermite_gaussian(i, alpha * beta, delta + 1. / (2 * scale_y ** 2)) / ( np.sqrt(2 * np.pi) * scale_y)\n",
    "    phi_z = coeff * np.exp(-(delta) * (z ** 2)) * H(alpha * beta * z)\n",
    "    sum += 2 * (1+lmbda) * (rho_list[i] / (rho_list[i] + lmbda) ) * (emd_x - emd_y) * phi_z\n",
    "\n",
    "print('anaytic witness:', sum)"
   ]
  },
  {
   "cell_type": "code",
   "execution_count": 8,
   "metadata": {},
   "outputs": [
    {
     "name": "stdout",
     "output_type": "stream",
     "text": [
      "empirical velocity field: [[-0.33440357]]\n",
      "anaytic velocity field: [[-0.23106459]]\n"
     ]
    },
    {
     "name": "stderr",
     "output_type": "stream",
     "text": [
      "/tmp/ipykernel_188004/1354206708.py:65: DeprecationWarning: `np.math` is a deprecated alias for the standard library `math` module (Deprecated Numpy 1.25). Replace usages of `np.math` with `math`\n",
      "  coeff = np.sqrt(beta / np.math.factorial(i)) / np.sqrt(2 ** i)\n"
     ]
    }
   ],
   "source": [
    "# velocity field for DrMMD\n",
    "import abc\n",
    "import jax.numpy as jnp\n",
    "from flax import struct\n",
    "from jax import vmap\n",
    "\n",
    "\n",
    "def _rescale(x, scale) :\n",
    "    return x / scale\n",
    "def _l2_norm_squared(x) :\n",
    "    return jnp.sum(jnp.square(x))\n",
    "\n",
    "\n",
    "class base_kernel(struct.PyTreeNode, metaclass=abc.ABCMeta):\n",
    "    @abc.abstractmethod\n",
    "    def __call__(self, x, y) :\n",
    "        raise NotImplementedError\n",
    "\n",
    "    def make_distance_matrix(self, X, Y) :\n",
    "        return vmap(vmap(type(self).__call__, (None, None, 0)), (None, 0, None))(\n",
    "            self, X, Y\n",
    "        )\n",
    "\n",
    "\n",
    "class gaussian_kernel(base_kernel):\n",
    "    sigma: float\n",
    "\n",
    "    def __call__(self, x, y) :\n",
    "        return jnp.exp(-0.5 * _l2_norm_squared(_rescale(x - y, self.sigma)))\n",
    "\n",
    "import time\n",
    "lmbda = 1.0\n",
    "scale_x, scale_y = 1.0, 2.0\n",
    "# Set a seed for reproducibility\n",
    "key = jax.random.PRNGKey(int(time.time() * 10000))\n",
    "x_samples_jax = jax.random.normal(key, shape=(1000,)) * scale_x\n",
    "key, _ = jax.random.split(key)\n",
    "y_samples_jax = jax.random.normal(key, shape=(100,)) * scale_y\n",
    "z = jnp.array([[2.0]])\n",
    "jax_kernel = gaussian_kernel(sigma=l)\n",
    "\n",
    "#empirical velocity field\n",
    "def h(z):\n",
    "    K_zY = jax_kernel.make_distance_matrix(z, y_samples_jax)\n",
    "    K_zX = jax_kernel.make_distance_matrix(z, x_samples_jax)\n",
    "    K_XX = jax_kernel.make_distance_matrix(x_samples_jax, x_samples_jax)\n",
    "    K_XY = jax_kernel.make_distance_matrix(x_samples_jax, y_samples_jax)\n",
    "\n",
    "    K_XX_inv = jnp.linalg.inv(K_XX + x_samples_jax.shape[0] * lmbda * jnp.eye(K_XX.shape[0]))\n",
    "    part1 = - K_zY.mean(axis=1) + K_zX.mean(axis=1)\n",
    "    part2 = (K_zX @ K_XX_inv @ K_XY).mean(axis=1)\n",
    "    part3 = - (K_zX @ K_XX_inv @ K_XX).mean(axis=1)\n",
    "    return (part1 + part2 + part3).squeeze() / lmbda * 2 * (1 + lmbda)\n",
    "\n",
    "print('empirical velocity field:', jax.grad(h)(z))\n",
    "\n",
    "x_samples = np.array(x_samples_jax).reshape(-1, 1)\n",
    "y_samples = np.array(y_samples_jax).reshape(-1, 1)\n",
    "\n",
    "# analytical witness\n",
    "sum = 0\n",
    "for i in range(1, hermite_order):\n",
    "    H = special.hermite(i)\n",
    "    H_prime = special.hermite(i - 1)\n",
    "    coeff = np.sqrt(beta / np.math.factorial(i)) / np.sqrt(2 ** i)\n",
    "    emd_x = coeff * integrate_hermite_gaussian(i, alpha * beta, delta + 1. / (2 * scale_x ** 2)) / ( np.sqrt(2 * np.pi) * scale_x)\n",
    "    emd_y = coeff * integrate_hermite_gaussian(i, alpha * beta, delta + 1. / (2 * scale_y ** 2)) / ( np.sqrt(2 * np.pi) * scale_y)\n",
    "    grad_phi_z_1 = coeff * np.exp(-(delta) * (z ** 2)) * (2 * i) * H_prime(alpha * beta * z) * alpha * beta\n",
    "    grad_phi_z_2 = coeff * np.exp(-(delta) * (z ** 2)) * (-2 * delta * z) * H(alpha * beta * z)\n",
    "    sum += 2 * (1+lmbda) * (rho_list[i] / (rho_list[i] + lmbda) ) * (emd_x - emd_y) * (grad_phi_z_1 + grad_phi_z_2)\n",
    "\n",
    "print('anaytic velocity field:', sum)"
   ]
  },
  {
   "cell_type": "code",
   "execution_count": 17,
   "metadata": {},
   "outputs": [
    {
     "name": "stderr",
     "output_type": "stream",
     "text": [
      "  0%|          | 0/100 [00:00<?, ?it/s]/tmp/ipykernel_188004/835287424.py:47: DeprecationWarning: `np.math` is a deprecated alias for the standard library `math` module (Deprecated Numpy 1.25). Replace usages of `np.math` with `math`\n",
      "  coeff = np.sqrt(beta / np.math.factorial(i)) / np.sqrt(2 ** i)\n",
      "100%|██████████| 100/100 [00:02<00:00, 42.93it/s]\n"
     ]
    }
   ],
   "source": [
    "from tqdm import tqdm\n",
    "\n",
    "q_0 = 1.0\n",
    "s_0 = q_0 / 2\n",
    "particle_num = 1000\n",
    "lmbda = 0.1\n",
    "\n",
    "np.random.seed(0)\n",
    "y = np.random.normal(loc=0.0, scale=np.sqrt(s_0), size=10).reshape(-1, 1)\n",
    "x = np.random.normal(loc=0.0, scale=np.sqrt(q_0), size=10).reshape(-1, 1)\n",
    "\n",
    "gamma = 0.001\n",
    "\n",
    "scale_x = np.sqrt(q_0)\n",
    "\n",
    "def kl_divergence_gaussian(sigma1, sigma2):\n",
    "    kl_div = np.log(sigma2 / sigma1 + 1e-10) + (sigma1**2 / (2 * sigma2**2)) - 0.5\n",
    "    return kl_div\n",
    "\n",
    "\n",
    "def chi2_divergence_gaussian(sigma1, sigma2):\n",
    "    chi2_div = sigma2**2 / sigma1 / np.sqrt(np.abs(2 * sigma2**2 - sigma1**2 + 0.001)) - 1\n",
    "    return chi2_div\n",
    "\n",
    "iter_num = 100\n",
    "kl_array = np.zeros(iter_num)\n",
    "lmbda_array = np.zeros(iter_num)\n",
    "\n",
    "chi2_0 = chi2_divergence_gaussian(np.std(y), scale_x)\n",
    "\n",
    "\n",
    "# adaptive lambda\n",
    "for iter in tqdm(range(iter_num)):\n",
    "    scale_y = np.std(y)\n",
    "    kl_array[iter] = kl_divergence_gaussian(np.std(y), scale_x)\n",
    "    lmbda_array[iter] = lmbda\n",
    "\n",
    "    if iter % 100 == 0:\n",
    "        # print(r'covariance of $\\mu_n$', scale_y ** 2)\n",
    "        pass\n",
    "    for j, y_particle in enumerate(y):\n",
    "        z = y_particle\n",
    "        sum = 0\n",
    "        for i in range(1, hermite_order):\n",
    "            H = special.hermite(i)\n",
    "            H_prime = special.hermite(i - 1)\n",
    "            coeff = np.sqrt(beta / np.math.factorial(i)) / np.sqrt(2 ** i)\n",
    "            emd_x = coeff * integrate_hermite_gaussian(i, alpha * beta, delta + 1. / (2 * scale_x ** 2)) / ( np.sqrt(2 * np.pi) * scale_x)\n",
    "            emd_y = coeff * integrate_hermite_gaussian(i, alpha * beta, delta + 1. / (2 * scale_y ** 2)) / ( np.sqrt(2 * np.pi) * scale_y)\n",
    "            grad_phi_z_1 = coeff * np.exp(-(delta) * (z ** 2)) * (2 * i) * H_prime(alpha * beta * z) * alpha * beta\n",
    "            grad_phi_z_2 = coeff * np.exp(-(delta) * (z ** 2)) * (-2 * delta * z) * H(alpha * beta * z)\n",
    "            sum += 2 * (1+lmbda) * (rho_list[i] / (rho_list[i] + lmbda) ) * (emd_x - emd_y) * (grad_phi_z_1 + grad_phi_z_2)\n",
    "        y[j] = y_particle + gamma * sum\n",
    "    # update lmabda\n",
    "    chi2_curr = chi2_divergence_gaussian(np.std(y), scale_x)\n",
    "    ratio = chi2_curr / chi2_0\n",
    "    lmbda = max(lmbda * ratio, 1e-3)\n",
    "        \n",
    "lmbda_array_adaptive = lmbda_array\n",
    "kl_array_adaptive = kl_array"
   ]
  },
  {
   "cell_type": "code",
   "execution_count": 18,
   "metadata": {},
   "outputs": [
    {
     "name": "stderr",
     "output_type": "stream",
     "text": [
      "  0%|          | 0/100 [00:00<?, ?it/s]/tmp/ipykernel_188004/4163827155.py:47: DeprecationWarning: `np.math` is a deprecated alias for the standard library `math` module (Deprecated Numpy 1.25). Replace usages of `np.math` with `math`\n",
      "  coeff = np.sqrt(beta / np.math.factorial(i)) / np.sqrt(2 ** i)\n",
      "100%|██████████| 100/100 [00:02<00:00, 43.06it/s]\n"
     ]
    }
   ],
   "source": [
    "from tqdm import tqdm\n",
    "\n",
    "q_0 = 1.0\n",
    "s_0 = q_0 / 2\n",
    "particle_num = 1000\n",
    "lmbda = 0.1\n",
    "\n",
    "np.random.seed(0)\n",
    "y = np.random.normal(loc=0.0, scale=np.sqrt(s_0), size=10).reshape(-1, 1)\n",
    "x = np.random.normal(loc=0.0, scale=np.sqrt(q_0), size=10).reshape(-1, 1)\n",
    "\n",
    "gamma = 0.01\n",
    "\n",
    "scale_x = np.sqrt(q_0)\n",
    "\n",
    "def kl_divergence_gaussian(sigma1, sigma2):\n",
    "    kl_div = np.log(sigma2 / sigma1 + 1e-6) + (sigma1**2 / (2 * sigma2**2)) - 0.5\n",
    "    return kl_div\n",
    "\n",
    "\n",
    "def chi2_divergence_gaussian(sigma1, sigma2):\n",
    "    chi2_div = sigma2**2 / sigma1 / np.sqrt(np.abs(2 * sigma2**2 - sigma1**2 + 0.001)) - 1\n",
    "    return chi2_div\n",
    "\n",
    "iter_num = 100\n",
    "kl_array = np.zeros(iter_num)\n",
    "lmbda_array = np.zeros(iter_num)\n",
    "\n",
    "chi2_0 = chi2_divergence_gaussian(np.std(y), scale_x)\n",
    "\n",
    "\n",
    "# fixed lambda\n",
    "for iter in tqdm(range(iter_num)):\n",
    "    scale_y = np.std(y)\n",
    "    kl_array[iter] = kl_divergence_gaussian(np.std(y), scale_x)\n",
    "    lmbda_array[iter] = lmbda\n",
    "\n",
    "    if iter % 100 == 0:\n",
    "        # print(r'covariance of $\\mu_n$', scale_y ** 2)\n",
    "        pass\n",
    "    for j, y_particle in enumerate(y):\n",
    "        z = y_particle\n",
    "        sum = 0\n",
    "        for i in range(1, hermite_order):\n",
    "            H = special.hermite(i)\n",
    "            H_prime = special.hermite(i - 1)\n",
    "            coeff = np.sqrt(beta / np.math.factorial(i)) / np.sqrt(2 ** i)\n",
    "            emd_x = coeff * integrate_hermite_gaussian(i, alpha * beta, delta + 1. / (2 * scale_x ** 2)) / ( np.sqrt(2 * np.pi) * scale_x)\n",
    "            emd_y = coeff * integrate_hermite_gaussian(i, alpha * beta, delta + 1. / (2 * scale_y ** 2)) / ( np.sqrt(2 * np.pi) * scale_y)\n",
    "            grad_phi_z_1 = coeff * np.exp(-(delta) * (z ** 2)) * (2 * i) * H_prime(alpha * beta * z) * alpha * beta\n",
    "            grad_phi_z_2 = coeff * np.exp(-(delta) * (z ** 2)) * (-2 * delta * z) * H(alpha * beta * z)\n",
    "            sum += 2 * (1+lmbda) * (rho_list[i] / (rho_list[i] + lmbda) ) * (emd_x - emd_y) * (grad_phi_z_1 + grad_phi_z_2)\n",
    "        y[j] = y_particle + gamma * sum\n",
    "\n",
    "kl_array_fixed = kl_array"
   ]
  },
  {
   "cell_type": "code",
   "execution_count": 23,
   "metadata": {},
   "outputs": [
    {
     "data": {
      "text/plain": [
       "<Figure size 600x450 with 0 Axes>"
      ]
     },
     "metadata": {},
     "output_type": "display_data"
    },
    {
     "data": {
      "image/png": "[encoded data removed]",
      "text/plain": [
       "<Figure size 1300x450 with 2 Axes>"
      ]
     },
     "metadata": {},
     "output_type": "display_data"
    }
   ],
   "source": [
    "import matplotlib.pyplot as plt\n",
    "plt.rcParams['axes.grid'] = True\n",
    "plt.rcParams['font.family'] = 'DeJavu Serif'\n",
    "plt.rcParams['font.serif'] = ['Times New Roman']\n",
    "plt.rcParams['axes.labelsize'] = 22\n",
    "plt.rc('text', usetex=True)\n",
    "plt.rc('text.latex', preamble=r'\\usepackage{amsmath, amsfonts}')\n",
    "plt.tight_layout()\n",
    "\n",
    "plt.rc('font', size=22)\n",
    "plt.rc('lines', linewidth=3)\n",
    "plt.rc('legend', fontsize=22, frameon=False)\n",
    "plt.rc('xtick', labelsize=14, direction='in')\n",
    "plt.rc('ytick', labelsize=14, direction='in')\n",
    "plt.rc('figure', figsize=(6, 4.5))\n",
    "\n",
    "fig, axs = plt.subplots(1, 2, figsize=(13, 4.5))\n",
    "axs[0].plot(kl_array_fixed, label=r'Fixed $\\lambda$')\n",
    "axs[0].plot(kl_array_adaptive, label=r'Adaptive $\\lambda$')\n",
    "axs[0].set_xlabel('Iteration')\n",
    "axs[0].set_ylabel(r'$\\text{KL}(\\mu_n \\| \\pi)$')\n",
    "axs[0].set_yscale('log')\n",
    "axs[0].legend()\n",
    "axs[0].set_xticks([0, 25, 50, 75, 100])\n",
    "axs[0].set_yticks([1e-1, 1e-4, 1e-7, 1e-10])\n",
    "colors = plt.get_cmap('tab10')\n",
    "\n",
    "axs[1].plot(lmbda_array_adaptive, color=colors(6), label=r'$\\lambda_n$')\n",
    "axs[1].set_xlabel('Iteration')\n",
    "# axs[1].set_ylabel(r'$\\lambda_n$')\n",
    "axs[1].set_xticks([0, 25, 50, 75, 100])\n",
    "axs[1].set_yscale('log')\n",
    "axs[1].legend()\n",
    "plt.subplots_adjust(hspace=2.0) \n",
    "plt.savefig(f'/home/zongchen/drmmd/figures_new/KL.pdf')\n",
    "plt.show()"
   ]
  },
  {
   "cell_type": "code",
   "execution_count": 12,
   "metadata": {},
   "outputs": [
    {
     "data": {
      "text/plain": [
       "<Figure size 600x450 with 0 Axes>"
      ]
     },
     "metadata": {},
     "output_type": "display_data"
    },
    {
     "data": {
      "image/png": "[encoded data removed]",
      "text/plain": [
       "<Figure size 600x450 with 1 Axes>"
      ]
     },
     "metadata": {},
     "output_type": "display_data"
    }
   ],
   "source": [
    "# Verify the eigenvalue decay of the density ratio\n",
    "import numpy as np\n",
    "import math\n",
    "import scipy\n",
    "hermite_order = 10\n",
    "import matplotlib.pyplot as plt\n",
    "plt.rcParams['axes.grid'] = True\n",
    "plt.rcParams['font.family'] = 'DeJavu Serif'\n",
    "plt.rcParams['font.serif'] = ['Times New Roman']\n",
    "plt.rcParams['axes.labelsize'] = 22\n",
    "plt.rc('text', usetex=True)\n",
    "plt.rc('text.latex', preamble=r'\\usepackage{amsmath, amsfonts}')\n",
    "plt.tight_layout()\n",
    "\n",
    "plt.rc('font', size=22)\n",
    "plt.rc('lines', linewidth=3)\n",
    "plt.rc('legend', fontsize=22, frameon=False)\n",
    "plt.rc('xtick', labelsize=14, direction='in')\n",
    "plt.rc('ytick', labelsize=14, direction='in')\n",
    "plt.rc('figure', figsize=(6, 4.5))\n",
    "\n",
    "i_array = np.arange(hermite_order) * 2\n",
    "q_0 = 1.0\n",
    "beta = (1 + (4 * q_0)) ** 0.25\n",
    "delta = (beta ** 2 - 1) / (4 * q_0)\n",
    "kernel_eig = np.power(0.5 / (0.5 + delta + 1 / (2 * q_0) ), i_array)\n",
    "\n",
    "eig_dict = {1.1: None,\n",
    "            1.5: None,\n",
    "            2.0: None\n",
    "            }\n",
    "colors = plt.get_cmap('tab10')\n",
    "eig_color_dict = {1.1: colors(5),\n",
    "                1.5: colors(4),\n",
    "                2.0: colors(2)\n",
    "                }\n",
    "for r in eig_dict.keys():\n",
    "    s_t = q_0 / r\n",
    "    dense_ratio_eig_1 = scipy.special.factorial(i_array) / (scipy.special.factorial(i_array / 2) ** 2) / np.power(2, i_array)\n",
    "    dense_ratio_eig_2 = np.power(1 - beta ** 2 / (2 * q_0) / (delta + 1 / (2 * s_t)), i_array / 2)\n",
    "    dense_ratio_eig_3 = np.power(1 - beta ** 2 / (2 * q_0) / (delta + 1 / (2 * q_0)), i_array / 2)\n",
    "    dense_ratio_eig = dense_ratio_eig_1 * (dense_ratio_eig_2 * np.sqrt(0.5 / s_t) -  dense_ratio_eig_3 * np.sqrt(0.5 / q_0)) ** 2\n",
    "    eig_dict[r] = np.abs(dense_ratio_eig)\n",
    "\n",
    "fig, ax = plt.subplots(figsize=(6, 4.5))\n",
    "# plt.grid(False)\n",
    "plt.plot(i_array, kernel_eig, label=r'$\\rho_i$', color = colors(3), marker='o')\n",
    "for r, dense_ratio_eig in eig_dict.items():\n",
    "    s = q_0 / r\n",
    "    plt.plot(i_array, dense_ratio_eig, color=eig_color_dict[r], label=r'$\\left\\langle \\frac{d \\mu}{d \\pi} - 1, e_i \\right\\rangle_{L^2(\\pi)}$' + f'($s={s}$)', marker='o')\n",
    "# plt.legend()\n",
    "ax.set_xticks([0, 5, 10, 15])\n",
    "plt.yscale('log')\n",
    "plt.xlabel('i')\n",
    "plt.savefig(f'/home/zongchen/drmmd/figures_new/eigenvalue_illustrative.pdf')\n",
    "plt.show()"
   ]
  },
  {
   "cell_type": "code",
   "execution_count": 13,
   "metadata": {},
   "outputs": [
    {
     "data": {
      "image/png": "[encoded data removed]",
      "text/plain": [
       "<Figure size 1000x170 with 1 Axes>"
      ]
     },
     "metadata": {},
     "output_type": "display_data"
    }
   ],
   "source": [
    "# legend_elements = [plt.Line2D([0], [0], color=colors(3), lw=2, label=r'$\\rho_i$', marker='o'),\n",
    "#                    plt.Line2D([0], [0], color=colors(0), lw=2, label=r'$\\left\\langle \\frac{d \\mu}{d \\pi} - 1, e_i \\right\\rangle_{L^2(\\pi)}$' + r'($\\mu=\\mathcal{N}(0, 0.9)$)', marker='o'),\n",
    "#                    plt.Line2D([0], [0], color=colors(1), lw=2, label=r'$\\left\\langle \\frac{d \\mu}{d \\pi} - 1, e_i \\right\\rangle_{L^2(\\pi)}$' + r'($\\mu=\\mathcal{N}(0, 0.6)$)', marker='o'),\n",
    "#                    plt.Line2D([0], [0], color=colors(2), lw=2, label=r'$\\left\\langle \\frac{d \\mu}{d \\pi} - 1, e_i \\right\\rangle_{L^2(\\pi)}$' + r'($\\mu=\\mathcal{N}(0, 0.5)$)', marker='o'),\n",
    "#                    ]\n",
    "legend_elements = [plt.Line2D([0], [0], color=colors(3), lw=2, label=r'$\\rho_i$', marker='o'),\n",
    "                   plt.Line2D([0], [0], color=colors(4), lw=2, label=r'$\\mu=\\mathcal{N}(0, 0.6)$', marker='o'),\n",
    "                   plt.Line2D([0], [0], color=colors(5), lw=2, label=r'$\\mu=\\mathcal{N}(0, 0.5)$', marker='o'),\n",
    "                   plt.Line2D([0], [0], color=colors(0), lw=2, label=r'$\\mu=\\mathcal{N}(0, 0.9)$', marker='o'),\n",
    "                   ]\n",
    "# Create a new figure and axis for the legend\n",
    "legend_fig, legend_ax = plt.subplots(figsize=(10, 1.7))\n",
    "legend_ax.set_axis_off()\n",
    "legend_ax.legend(handles=legend_elements, loc='center', ncol=2, fontsize='large')\n",
    "plt.savefig(f'/home/zongchen/drmmd/figures_new/legend_eigenvalue.pdf')\n",
    " "
   ]
  },
  {
   "cell_type": "code",
   "execution_count": 14,
   "metadata": {},
   "outputs": [
    {
     "data": {
      "text/plain": [
       "2.76393202250021"
      ]
     },
     "execution_count": 14,
     "metadata": {},
     "output_type": "execute_result"
    }
   ],
   "source": [
    "beta ** 2 / q_0 / (delta + 1 / (2 * q_0))"
   ]
  },
  {
   "cell_type": "code",
   "execution_count": 15,
   "metadata": {},
   "outputs": [
    {
     "data": {
      "text/plain": [
       "1.7082039324993687"
      ]
     },
     "execution_count": 15,
     "metadata": {},
     "output_type": "execute_result"
    }
   ],
   "source": [
    "beta ** 2 / q_0 / (delta + 1 / (2 * s_t))"
   ]
  }
 ],
 "metadata": {
  "kernelspec": {
   "display_name": "chard",
   "language": "python",
   "name": "python3"
  },
  "language_info": {
   "codemirror_mode": {
    "name": "ipython",
    "version": 3
   },
   "file_extension": ".py",
   "mimetype": "text/x-python",
   "name": "python",
   "nbconvert_exporter": "python",
   "pygments_lexer": "ipython3",
   "version": "3.9.18"
  }
 },
 "nbformat": 4,
 "nbformat_minor": 2
}
