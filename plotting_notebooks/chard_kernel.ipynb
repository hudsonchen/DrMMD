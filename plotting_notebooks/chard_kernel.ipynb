{
 "cells": [
  {
   "cell_type": "code",
   "execution_count": 13,
   "metadata": {},
   "outputs": [
    {
     "data": {
      "text/plain": [
       "<Figure size 600x400 with 0 Axes>"
      ]
     },
     "metadata": {},
     "output_type": "display_data"
    }
   ],
   "source": [
    "import jax.numpy as jnp\n",
    "import jax\n",
    "import os\n",
    "import pickle\n",
    "import math\n",
    "\n",
    "jax.config.update(\"jax_enable_x64\", True)\n",
    "jax.config.update(\"jax_platform_name\", \"cpu\")\n",
    "\n",
    "os.chdir('/home/zongchen/chard/')\n",
    "\n",
    "import matplotlib.pyplot as plt\n",
    "\n",
    "from kwgflows.rkhs.kernels import *\n",
    "import ot\n",
    "from kwgflows.divergences.mmd import *\n",
    "plt.rcParams['axes.grid'] = True\n",
    "plt.rcParams['font.family'] = 'DeJavu Serif'\n",
    "plt.rcParams['font.serif'] = ['Times New Roman']\n",
    "plt.rcParams['axes.labelsize'] = 20\n",
    "plt.rc('text', usetex=True)\n",
    "plt.rc('text.latex', preamble=r'\\usepackage{amsmath, amsfonts}')\n",
    "plt.tight_layout()\n",
    "\n",
    "plt.rc('font', size=20)\n",
    "plt.rc('lines', linewidth=2)\n",
    "plt.rc('legend', fontsize=18, frameon=False)\n",
    "plt.rc('xtick', labelsize=14, direction='in')\n",
    "plt.rc('ytick', labelsize=14, direction='in')\n",
    "plt.rc('figure', figsize=(6, 4))\n"
   ]
  },
  {
   "cell_type": "code",
   "execution_count": 14,
   "metadata": {},
   "outputs": [],
   "source": [
    "kernel_list = ['Gaussian', 'Laplace', 'IMQ']\n",
    "chard_trajectory = {e: None for e in kernel_list}\n",
    "\n",
    "for ker in kernel_list:\n",
    "    chard_dir = f'/home/zongchen/chard/results_rebuttal/ThreeRing_dataset/{ker}_kernel/chard_flow/'\n",
    "    chard_hyper = ['lmbda_0.01_', \n",
    "                'step_num_10000_',\n",
    "                'source_particle_num_300_',\n",
    "                'nystrom_0',\n",
    "                'inject_noise_scale_0.0_',\n",
    "                'opt_sgd_']\n",
    "\n",
    "    for file in os.listdir(chard_dir):\n",
    "        if all(hyper in file for hyper in chard_hyper):\n",
    "            chard_trajectory[ker] = jnp.load(chard_dir + file + '/Ys.npy')\n",
    "            chard_config = pickle.load(open(chard_dir + file + '/configs', 'rb'))\n",
    "            \n",
    "            if chard_trajectory[ker] is None:\n",
    "                raise ValueError('No chard trajectory found')\n",
    "\n"
   ]
  },
  {
   "cell_type": "code",
   "execution_count": 15,
   "metadata": {},
   "outputs": [],
   "source": [
    "import argparse\n",
    "\n",
    "# Define your dictionary\n",
    "my_dict = chard_config\n",
    "\n",
    "# Create the ArgumentParser object\n",
    "parser = argparse.ArgumentParser(description='Convert dictionary to parser arguments')\n",
    "\n",
    "# Add arguments to the parser based on the dictionary\n",
    "for key, value in my_dict.items():\n",
    "    # Determine the type of the value for proper handling\n",
    "    if isinstance(value, int):\n",
    "        parser.add_argument(f'--{key}', type=int, default=value, help=f'{key} (default: {value})')\n",
    "    else:\n",
    "        parser.add_argument(f'--{key}', type=str, default=value, help=f'{key} (default: \"{value}\")')\n",
    "\n",
    "# Parse command line arguments (this line is for demonstration and typically uses sys.argv)\n",
    "args = parser.parse_args([])  # Empty list simulates no command-line arguments\n",
    "\n",
    "\n"
   ]
  },
  {
   "cell_type": "code",
   "execution_count": 16,
   "metadata": {},
   "outputs": [
    {
     "data": {
      "text/plain": [
       "Namespace(seed=40, dataset='ThreeRing', flow='chard', kernel='IMQ', spectral='tikhonov', lmbda=0.01, step_size=0.001, nystrom=0, save_path='./results_rebuttal/ThreeRing_dataset/IMQ_kernel/chard_flow/__lmbda_0.01__step_size_0.001__bandwidth_0.5__step_num_10000__source_particle_num_300__inject_noise_scale_0.0__nystrom_0__logccv_1.0__opt_sgd__seed_40', bandwidth=0.5, step_num=10000, source_particle_num=300, target_particle_num=300, diffusion_noise_scale=1.0, inject_noise_scale=0.0, logccv=1.0, opt='sgd')"
      ]
     },
     "execution_count": 16,
     "metadata": {},
     "output_type": "execute_result"
    }
   ],
   "source": [
    "args"
   ]
  },
  {
   "cell_type": "code",
   "execution_count": 17,
   "metadata": {},
   "outputs": [],
   "source": [
    "\n",
    "def compute_wasserstein_distance_numpy(X, Y):\n",
    "    a, b = jnp.ones((X.shape[0], )) / X.shape[0], jnp.ones((Y.shape[0], )) / Y.shape[0]\n",
    "    M = ot.dist(X, Y, 'euclidean')\n",
    "    W = ot.emd(a, b, M)\n",
    "    Wd = (W * M).sum()\n",
    "    return Wd\n",
    "\n",
    "def compute_wasserstein_distance_trajectory(flow_1, flow_2, eval_freq):\n",
    "    assert flow_1.shape[0] == flow_2.shape[0]\n",
    "    T = flow_1.shape[0]\n",
    "    wasserstein_distance = []\n",
    "    for i in range(0, T, eval_freq):\n",
    "        wasserstein_distance.append(compute_wasserstein_distance_numpy(flow_1[i, :], flow_2[i, :]))\n",
    "    wasserstein_distance = jnp.array(wasserstein_distance)\n",
    "    return wasserstein_distance\n",
    "\n",
    "def compute_all_distance_trajectory(config, trajectory, target, kernel):\n",
    "    mmd_divergence = mmd_fixed_target(args, kernel, None)\n",
    "    mmd_divergence.pre_compute(target)\n",
    "    mmd_distance = jax.vmap(mmd_divergence)(trajectory)\n",
    "\n",
    "    chard_divergence = chard_fixed_target(args, kernel, None)\n",
    "    chard_divergence.pre_compute(target)\n",
    "    chard_distance = jax.vmap(chard_divergence)(trajectory)\n",
    "\n",
    "    T = trajectory.shape[0]\n",
    "    wass_distance = compute_wasserstein_distance_trajectory(trajectory, jnp.repeat(target[None, :], T, axis=0), eval_freq=1)\n",
    "    return mmd_distance, chard_distance, wass_distance"
   ]
  },
  {
   "cell_type": "code",
   "execution_count": 18,
   "metadata": {},
   "outputs": [],
   "source": [
    "def generate_three_ring_and_gaussian(Nx, Ny):\n",
    "    rng_key = jax.random.PRNGKey(40)\n",
    "    r, _delta = 0.3, 0.5\n",
    "    \n",
    "    X = jnp.c_[r * jnp.cos(jnp.linspace(0, 2 * jnp.pi, Nx + 1)), r * jnp.sin(jnp.linspace(0, 2 * jnp.pi, Nx + 1))][:-1]  # noqa\n",
    "    for i in [1, 2]:\n",
    "        X = jnp.r_[X, X[:Nx, :]-i*jnp.array([0, (2 + _delta) * r])]\n",
    "\n",
    "    rng_key, _ = jax.random.split(rng_key)\n",
    "    Y = jax.random.normal(rng_key, (Ny, 2)) / 100 - jnp.array([0, r])\n",
    "    return X, Y"
   ]
  },
  {
   "cell_type": "code",
   "execution_count": 19,
   "metadata": {},
   "outputs": [
    {
     "data": {
      "image/png": "[encoded data removed]",
      "text/plain": [
       "<Figure size 600x400 with 1 Axes>"
      ]
     },
     "metadata": {},
     "output_type": "display_data"
    }
   ],
   "source": [
    "fig, axs = plt.subplots(1, 1, figsize=(6, 4))\n",
    "\n",
    "for i, (ker, trajectory) in enumerate(chard_trajectory.items()):\n",
    "    T = trajectory.shape[0]\n",
    "    x_ticks = jnp.arange(0, 100* T, 100)\n",
    "\n",
    "    particle_num = trajectory.shape[1]\n",
    "\n",
    "    target, _ = generate_three_ring_and_gaussian(int(particle_num/3), particle_num)\n",
    "    kernel = gaussian_kernel(chard_config['bandwidth'])\n",
    "    mmd, chard, wass = compute_all_distance_trajectory(chard_config, trajectory, target, kernel)\n",
    "    axs.plot(x_ticks, wass, label=f'{ker}')\n",
    "\n",
    "axs.legend(ncol=1, loc='upper right')\n",
    "axs.set_xlabel('Iteration')\n",
    "axs.set_ylabel(r'$W_2(\\mu_n, \\pi)$')\n",
    "plt.tight_layout()\n",
    "plt.savefig('./figures/kernel.pdf')\n",
    "plt.show()"
   ]
  }
 ],
 "metadata": {
  "kernelspec": {
   "display_name": "chard",
   "language": "python",
   "name": "python3"
  },
  "language_info": {
   "codemirror_mode": {
    "name": "ipython",
    "version": 3
   },
   "file_extension": ".py",
   "mimetype": "text/x-python",
   "name": "python",
   "nbconvert_exporter": "python",
   "pygments_lexer": "ipython3",
   "version": "3.9.18"
  }
 },
 "nbformat": 4,
 "nbformat_minor": 2
}
